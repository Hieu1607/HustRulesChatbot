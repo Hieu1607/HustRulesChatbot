{
 "cells": [
  {
   "cell_type": "code",
   "execution_count": 2,
   "id": "80650aa0",
   "metadata": {},
   "outputs": [
    {
     "name": "stdout",
     "output_type": "stream",
     "text": [
      "Your question is:  Năm 3 nên làm gì ?\n",
      "Theo định hướng của Ban Giám đốc Đại học với sinh viên NĂM THỨ BA, bạn nên: Học chuyên ngành, Tham gia các lab/dự án, Phát triển kỹ năng chuyên môn, Xây dựng hồ sơ cá nhân.\n",
      "\n"
     ]
    }
   ],
   "source": [
    "## Ask here\n",
    "from model import answer_school_rule\n",
    "question = input(\"Type your question: \")\n",
    "print(\"Your question is: \", question)\n",
    "answer = answer_school_rule(question)\n",
    "print(answer)"
   ]
  }
 ],
 "metadata": {
  "kernelspec": {
   "display_name": "Python 3",
   "language": "python",
   "name": "python3"
  },
  "language_info": {
   "codemirror_mode": {
    "name": "ipython",
    "version": 3
   },
   "file_extension": ".py",
   "mimetype": "text/x-python",
   "name": "python",
   "nbconvert_exporter": "python",
   "pygments_lexer": "ipython3",
   "version": "3.13.3"
  }
 },
 "nbformat": 4,
 "nbformat_minor": 5
}
